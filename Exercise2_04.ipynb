{
 "cells": [
  {
   "cell_type": "markdown",
   "metadata": {},
   "source": [
    "# Exercise 2.04: First-, Second-, and Third-Degree Polynomial Regression\n",
    "\n",
    "\n",
    "The goal of this exercise is to perform first-, second-, and third-degree polynomial regression on the two sample datasets that we used earlier in this chapter. The first dataset has a linear distribution and the second one is the Fibonacci sequence and has a nonlinear distribution.\n",
    "\n",
    "The following steps will help you to complete the exercise:"
   ]
  },
  {
   "cell_type": "markdown",
   "metadata": {},
   "source": [
    "1.- Import the `numpy` and `matplotlib` packages"
   ]
  },
  {
   "cell_type": "code",
   "execution_count": 12,
   "metadata": {},
   "outputs": [],
   "source": [
    "import numpy as np\n",
    "import matplotlib.pyplot as plot"
   ]
  },
  {
   "cell_type": "markdown",
   "metadata": {},
   "source": [
    "2.- Define the first dataset:\n",
    "\n",
    "```\n",
    "x1 = [1, 2, 3, 4, 5, 6, 7, 8, 9, 10, 11, 12, 13]\n",
    "y1 = [2, 8, 8, 18, 25, 21, 32, 44, 32, 48, 61, 45, 62]\n",
    "```"
   ]
  },
  {
   "cell_type": "code",
   "execution_count": 4,
   "metadata": {},
   "outputs": [
    {
     "data": {
      "text/plain": [
       "(array([ 1,  2,  3,  4,  5,  6,  7,  8,  9, 10, 11, 12, 13]),\n",
       " array([ 2,  8,  8, 18, 25, 21, 32, 44, 32, 48, 61, 45, 62]))"
      ]
     },
     "execution_count": 4,
     "metadata": {},
     "output_type": "execute_result"
    }
   ],
   "source": [
    "x1 = np.array(range(1, 14))\n",
    "y1 = np.array([2, 8, 8, 18, 25, 21, 32, 44, 32, 48, 61, 45, 62])\n",
    "\n",
    "x1, y1"
   ]
  },
  {
   "cell_type": "markdown",
   "metadata": {},
   "source": [
    "3.- Define the second dataset\n",
    "\n",
    "```\n",
    "x2 = [1, 2, 3, 4, 5, 6, 7, 8, 9, 10, 11, 12, 13]\n",
    "y2 = [0, 1, 1, 2, 3, 5, 8, 13, 21, 34, 55, 89, 144]\n",
    "```"
   ]
  },
  {
   "cell_type": "code",
   "execution_count": 5,
   "metadata": {},
   "outputs": [
    {
     "data": {
      "text/plain": [
       "(array([ 1,  2,  3,  4,  5,  6,  7,  8,  9, 10, 11, 12, 13]),\n",
       " array([  0,   1,   1,   2,   3,   5,   8,  13,  21,  34,  55,  89, 144]))"
      ]
     },
     "execution_count": 5,
     "metadata": {},
     "output_type": "execute_result"
    }
   ],
   "source": [
    "x2 = np.array(range(1, 14))\n",
    "y2 = np.array([0, 1, 1, 2, 3, 5, 8, 13, 21, 34, 55, 89, 144])\n",
    "\n",
    "x2, y2"
   ]
  },
  {
   "cell_type": "markdown",
   "metadata": {},
   "source": [
    "4.- Perform a polynomial regression of degrees `1`, `2`, and `3` on the first dataset using the `polyfit` method from numpy.\n",
    "\n",
    "Outputs:\n",
    "\n",
    "```\n",
    "poly1d([ 4.85714286, -2.76923077])\n",
    "```\n",
    "\n",
    "```\n",
    "poly1d([-0.03196803,  5.3046953 , -3.88811189])\n",
    "```\n",
    "\n",
    "```\n",
    "poly1d([-0.01136364,  0.20666833,  3.91833167, -1.97902098])\n",
    "```"
   ]
  },
  {
   "cell_type": "code",
   "execution_count": 7,
   "metadata": {},
   "outputs": [],
   "source": [
    "pr1 = np.poly1d(np.polyfit(x1, y1, 1))"
   ]
  },
  {
   "cell_type": "code",
   "execution_count": 8,
   "metadata": {},
   "outputs": [],
   "source": [
    "pr2 = np.poly1d(np.polyfit(x1, y1, 2))"
   ]
  },
  {
   "cell_type": "code",
   "execution_count": 9,
   "metadata": {},
   "outputs": [],
   "source": [
    "pr3 = np.poly1d(np.polyfit(x1, y1, 3))"
   ]
  },
  {
   "cell_type": "code",
   "execution_count": 10,
   "metadata": {},
   "outputs": [
    {
     "data": {
      "text/plain": [
       "(poly1d([ 4.85714286, -2.76923077]),\n",
       " poly1d([-0.03196803,  5.3046953 , -3.88811189]),\n",
       " poly1d([-0.01136364,  0.20666833,  3.91833167, -1.97902098]))"
      ]
     },
     "execution_count": 10,
     "metadata": {},
     "output_type": "execute_result"
    }
   ],
   "source": [
    "pr1, pr2, pr3"
   ]
  },
  {
   "cell_type": "markdown",
   "metadata": {},
   "source": [
    "Now that we have calculated the three polynomial regressions, we can plot them together with the data on a graph to see how they behave."
   ]
  },
  {
   "cell_type": "markdown",
   "metadata": {},
   "source": [
    "5.- Plot the three polynomial regressions and the data on a graph\n",
    "\n",
    "Output:\n",
    "\n",
    "![Figure 2.24](img/fig2_24.jpg)"
   ]
  },
  {
   "cell_type": "code",
   "execution_count": 14,
   "metadata": {},
   "outputs": [
    {
     "data": {
      "image/png": "[encoded data removed]",
      "text/plain": [
       "<Figure size 432x288 with 1 Axes>"
      ]
     },
     "metadata": {
      "needs_background": "light"
     },
     "output_type": "display_data"
    }
   ],
   "source": [
    "plot.plot(x1, y1, 'ko', x1, pr1(x1),'k-', x1, pr2(x1),'k--',  x1, pr3(x1),'k-.')\n",
    "plot.show()"
   ]
  },
  {
   "cell_type": "markdown",
   "metadata": {},
   "source": [
    "As the coefficients are enumerated from left to right in order of decreasing degree, we can see that the higher-degree coefficients stay close to negligible. In other words, the three curves are almost on top of each other, and we can only detect a divergence near the right edge. This is because we are working on a dataset that can be very well approximated with a linear model.\n",
    "\n",
    "In fact, the first dataset was created out of a linear function. Any non-zero coefficients for $x^2$ and $x^3$ are the result of overfitting the model based on the available data. The linear model is better for predicting values outside the range of the training data than any higher-degree polynomial.\n",
    "\n",
    "Let's contrast this behavior with the second example. We know that the Fibonacci sequence is nonlinear. So, using a linear equation to approximate it is a clear case for underfitting. Here, we expect a higher polynomial degree to perform better."
   ]
  },
  {
   "cell_type": "markdown",
   "metadata": {},
   "source": [
    "6.- Perform a polynomial regression of degrees `1`, `2`, and `3` on the second dataset using the `polyfit` method from numpy\n",
    "\n",
    "Output:\n",
    "\n",
    "```\n",
    "poly1d([  9.12087912, -34.92307692])\n",
    "```\n",
    "\n",
    "```\n",
    "poly1d([  1.75024975, -15.38261738,  26.33566434])\n",
    "```\n",
    "\n",
    "```\n",
    "poly1d([  0.2465035 ,  -3.42632368,  14.69080919, -15.07692308])\n",
    "```"
   ]
  },
  {
   "cell_type": "code",
   "execution_count": 16,
   "metadata": {},
   "outputs": [],
   "source": [
    "plg1 = np.poly1d(np.polyfit(x2, y2, 1))"
   ]
  },
  {
   "cell_type": "code",
   "execution_count": 17,
   "metadata": {},
   "outputs": [],
   "source": [
    "plg2 = np.poly1d(np.polyfit(x2, y2, 2))"
   ]
  },
  {
   "cell_type": "code",
   "execution_count": 18,
   "metadata": {},
   "outputs": [],
   "source": [
    "plg3 = np.poly1d(np.polyfit(x2, y2, 3))"
   ]
  },
  {
   "cell_type": "code",
   "execution_count": 19,
   "metadata": {},
   "outputs": [
    {
     "data": {
      "text/plain": [
       "(poly1d([  9.12087912, -34.92307692]),\n",
       " poly1d([  1.75024975, -15.38261738,  26.33566434]),\n",
       " poly1d([  0.2465035 ,  -3.42632368,  14.69080919, -15.07692308]))"
      ]
     },
     "execution_count": 19,
     "metadata": {},
     "output_type": "execute_result"
    }
   ],
   "source": [
    "plg1, plg2, plg3"
   ]
  },
  {
   "cell_type": "markdown",
   "metadata": {},
   "source": [
    "7.- Plot the three polynomial regressions and the data on a graph\n",
    "\n",
    "Output:\n",
    "\n",
    "![Figure 2.25](img/fig2_25.jpg)"
   ]
  },
  {
   "cell_type": "code",
   "execution_count": 20,
   "metadata": {},
   "outputs": [
    {
     "data": {
      "image/png": "[encoded data removed]",
      "text/plain": [
       "<Figure size 432x288 with 1 Axes>"
      ]
     },
     "metadata": {
      "needs_background": "light"
     },
     "output_type": "display_data"
    }
   ],
   "source": [
    "plot.plot(x1, y1, 'ko', x1, plg1(x1),'k-', x1, plg2(x1),'k--',  x1, plg3(x1),'k-.')\n",
    "plot.show()"
   ]
  },
  {
   "cell_type": "markdown",
   "metadata": {},
   "source": [
    "The difference is clear. The quadratic curve fits the points a lot better than the linear one. The cubic curve is even better."
   ]
  },
  {
   "cell_type": "code",
   "execution_count": null,
   "metadata": {},
   "outputs": [],
   "source": []
  }
 ],
 "metadata": {
  "kernelspec": {
   "display_name": "Python 3",
   "language": "python",
   "name": "python3"
  },
  "language_info": {
   "codemirror_mode": {
    "name": "ipython",
    "version": 3
   },
   "file_extension": ".py",
   "mimetype": "text/x-python",
   "name": "python",
   "nbconvert_exporter": "python",
   "pygments_lexer": "ipython3",
   "version": "3.9.0"
  }
 },
 "nbformat": 4,
 "nbformat_minor": 4
}
